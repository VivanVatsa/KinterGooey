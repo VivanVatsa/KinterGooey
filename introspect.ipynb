{
 "metadata": {
  "language_info": {
   "codemirror_mode": {
    "name": "ipython",
    "version": 3
   },
   "file_extension": ".py",
   "mimetype": "text/x-python",
   "name": "python",
   "nbconvert_exporter": "python",
   "pygments_lexer": "ipython3",
   "version": "3.8.5-final"
  },
  "orig_nbformat": 2,
  "kernelspec": {
   "name": "python38332bitb7e319a91494434c8a18c1edcb1ed3b8",
   "display_name": "Python 3.8.3 32-bit"
  }
 },
 "nbformat": 4,
 "nbformat_minor": 2,
 "cells": [
  {
   "cell_type": "code",
   "execution_count": 1,
   "metadata": {},
   "outputs": [],
   "source": [
    "from tkinter import *"
   ]
  },
  {
   "cell_type": "code",
   "execution_count": 2,
   "metadata": {},
   "outputs": [
    {
     "output_type": "stream",
     "text": "\u001b[1;31mInit signature:\u001b[0m \u001b[0mButton\u001b[0m\u001b[1;33m(\u001b[0m\u001b[0mmaster\u001b[0m\u001b[1;33m=\u001b[0m\u001b[1;32mNone\u001b[0m\u001b[1;33m,\u001b[0m \u001b[0mcnf\u001b[0m\u001b[1;33m=\u001b[0m\u001b[1;33m{\u001b[0m\u001b[1;33m}\u001b[0m\u001b[1;33m,\u001b[0m \u001b[1;33m**\u001b[0m\u001b[0mkw\u001b[0m\u001b[1;33m)\u001b[0m\u001b[1;33m\u001b[0m\u001b[1;33m\u001b[0m\u001b[0m\n\u001b[1;31mDocstring:\u001b[0m      Button widget.\n\u001b[1;31mInit docstring:\u001b[0m\nConstruct a button widget with the parent MASTER.\n\nSTANDARD OPTIONS\n\n    activebackground, activeforeground, anchor,\n    background, bitmap, borderwidth, cursor,\n    disabledforeground, font, foreground\n    highlightbackground, highlightcolor,\n    highlightthickness, image, justify,\n    padx, pady, relief, repeatdelay,\n    repeatinterval, takefocus, text,\n    textvariable, underline, wraplength\n\nWIDGET-SPECIFIC OPTIONS\n\n    command, compound, default, height,\n    overrelief, state, width\n\u001b[1;31mFile:\u001b[0m           c:\\users\\vivan\\appdata\\local\\programs\\python\\python38-32\\lib\\tkinter\\__init__.py\n\u001b[1;31mType:\u001b[0m           type\n\u001b[1;31mSubclasses:\u001b[0m     \n"
    }
   ],
   "source": [
    "Button?"
   ]
  },
  {
   "cell_type": "code",
   "execution_count": 3,
   "metadata": {},
   "outputs": [
    {
     "output_type": "stream",
     "text": "\u001b[1;31mInit signature:\u001b[0m \u001b[0mGrid\u001b[0m\u001b[1;33m(\u001b[0m\u001b[1;33m)\u001b[0m\u001b[1;33m\u001b[0m\u001b[1;33m\u001b[0m\u001b[0m\n\u001b[1;31mDocstring:\u001b[0m     \nGeometry manager Grid.\n\nBase class to use the methods grid_* in every widget.\n\u001b[1;31mFile:\u001b[0m           c:\\users\\vivan\\appdata\\local\\programs\\python\\python38-32\\lib\\tkinter\\__init__.py\n\u001b[1;31mType:\u001b[0m           type\n\u001b[1;31mSubclasses:\u001b[0m     Widget\n"
    }
   ],
   "source": [
    "Grid?"
   ]
  },
  {
   "cell_type": "code",
   "execution_count": null,
   "metadata": {},
   "outputs": [],
   "source": []
  }
 ]
}